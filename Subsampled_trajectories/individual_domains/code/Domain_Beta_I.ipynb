{
 "cells": [
  {
   "cell_type": "code",
   "execution_count": 1,
   "id": "52ed3da6",
   "metadata": {},
   "outputs": [],
   "source": [
    "import mdtraj as md\n",
    "import numpy as np\n",
    "import matplotlib.pyplot as plt\n",
    "\n",
    "topology = '/uufs/chpc.utah.edu/common/home/bidone-group2/AnnaY/charmmguiinputs0710/CHARMMGUI_bent_beta_betai_new_1_backup/gromacs/proteinB8.pdb'\n",
    "\n",
    "Beta_I_Replica_1_Path = '/uufs/chpc.utah.edu/common/home/bidone-group2/AnnaY/charmmguiinputs0710/CHARMMGUI_bent_beta_betai_new_1_backup/gromacs/fit_testB8.xtc'\n",
    "Beta_I_Replica_2_Path = '/uufs/chpc.utah.edu/common/home/bidone-group3/onkarj/bent_isolated_domains_replica_2/Domain_8_Beta_I/fit_test.xtc'\n",
    "Beta_I_Replica_3_Path = '/uufs/chpc.utah.edu/common/home/bidone-group3/onkarj/bent_isolated_domains_replica_3/Domain_8_Beta_I/fit_test.xtc'\n",
    "\n",
    "Beta_I_Replica_1 = md.load(Beta_I_Replica_1_Path, top=topology)\n",
    "Beta_I_Replica_2 = md.load(Beta_I_Replica_2_Path, top=topology)\n",
    "Beta_I_Replica_3 = md.load(Beta_I_Replica_3_Path, top=topology)\n",
    "\n",
    "# Extract every 10th frame\n",
    "subset_traj_1 = Beta_I_Replica_1[::10]\n",
    "subset_traj_2 = Beta_I_Replica_2[::10]\n",
    "subset_traj_3 = Beta_I_Replica_3[::10]\n",
    "\n",
    "subset_traj_1.save_xtc(\"Beta_I_Replica_1.xtc\")\n",
    "subset_traj_2.save_xtc(\"Beta_I_Replica_2.xtc\")\n",
    "subset_traj_3.save_xtc(\"Beta_I_Replica_3.xtc\")"
   ]
  },
  {
   "cell_type": "code",
   "execution_count": null,
   "id": "120b5455",
   "metadata": {},
   "outputs": [],
   "source": []
  }
 ],
 "metadata": {
  "kernelspec": {
   "display_name": "Python 3 (ipykernel)",
   "language": "python",
   "name": "python3"
  },
  "language_info": {
   "codemirror_mode": {
    "name": "ipython",
    "version": 3
   },
   "file_extension": ".py",
   "mimetype": "text/x-python",
   "name": "python",
   "nbconvert_exporter": "python",
   "pygments_lexer": "ipython3",
   "version": "3.10.3"
  }
 },
 "nbformat": 4,
 "nbformat_minor": 5
}
