{
 "cells": [
  {
   "cell_type": "code",
   "execution_count": 1,
   "id": "c24f00c3",
   "metadata": {},
   "outputs": [],
   "source": [
    "import mdtraj as md\n",
    "\n",
    "# Load the trajectory\n",
    "traj = md.load(\"/uufs/chpc.utah.edu/common/home/bidone-group3/onkarj/revision_1/int1/analysis/final_trajectory/int1_4_microsecond_c_alpha.xtc\", top=\"/uufs/chpc.utah.edu/common/home/bidone-group3/onkarj/revision_1/int1/analysis/final_trajectory/int1_4_microsecond_c_alpha_frame0.pdb\")\n",
    "\n",
    "# Extract every 10th frame\n",
    "subset_traj = traj[::10]\n",
    "\n",
    "# Save the subset trajectory\n",
    "subset_traj.save_xtc(\"int1_five_microseconds.xtc\")\n"
   ]
  }
 ],
 "metadata": {
  "kernelspec": {
   "display_name": "Python 3 (ipykernel)",
   "language": "python",
   "name": "python3"
  },
  "language_info": {
   "codemirror_mode": {
    "name": "ipython",
    "version": 3
   },
   "file_extension": ".py",
   "mimetype": "text/x-python",
   "name": "python",
   "nbconvert_exporter": "python",
   "pygments_lexer": "ipython3",
   "version": "3.10.3"
  }
 },
 "nbformat": 4,
 "nbformat_minor": 5
}
