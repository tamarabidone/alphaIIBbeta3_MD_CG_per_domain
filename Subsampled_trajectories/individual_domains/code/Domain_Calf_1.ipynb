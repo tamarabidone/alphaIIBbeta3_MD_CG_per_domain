{
 "cells": [
  {
   "cell_type": "code",
   "execution_count": 1,
   "id": "9a9608cc",
   "metadata": {},
   "outputs": [],
   "source": [
    "import mdtraj as md\n",
    "import numpy as np\n",
    "import matplotlib.pyplot as plt\n",
    "\n",
    "topology = '/uufs/chpc.utah.edu/common/home/bidone-group2/AnnaY/charmmguiinputs0710/CHARMMGUI_bent_alpha_calf1/gromacs/proteinB3.pdb'\n",
    "\n",
    "Calf_1_Replica_1_Path = '/uufs/chpc.utah.edu/common/home/bidone-group2/AnnaY/charmmguiinputs0710/CHARMMGUI_bent_alpha_calf1/gromacs/fit_testB3.xtc'\n",
    "Calf_1_Replica_2_Path = '/uufs/chpc.utah.edu/common/home/bidone-group3/onkarj/bent_isolated_domains_replica_2/Domain_3_Calf_1/fit_test.xtc'\n",
    "Calf_1_Replica_3_Path = '/uufs/chpc.utah.edu/common/home/bidone-group3/onkarj/bent_isolated_domains_replica_3/Domain_3_Calf_1/fit_test.xtc'\n",
    "\n",
    "Calf_1_Replica_1 = md.load(Calf_1_Replica_1_Path, top=topology)\n",
    "Calf_1_Replica_2 = md.load(Calf_1_Replica_2_Path, top=topology)\n",
    "Calf_1_Replica_3 = md.load(Calf_1_Replica_3_Path, top=topology)\n",
    "\n",
    "# Extract every 10th frame\n",
    "subset_traj_1 = Calf_1_Replica_1[::10]\n",
    "subset_traj_2 = Calf_1_Replica_2[::10]\n",
    "subset_traj_3 = Calf_1_Replica_3[::10]\n",
    "\n",
    "subset_traj_1.save_xtc(\"Calf_1_Replica_1.xtc\")\n",
    "subset_traj_2.save_xtc(\"Calf_1_Replica_2.xtc\")\n",
    "subset_traj_3.save_xtc(\"Calf_1_Replica_3.xtc\")"
   ]
  },
  {
   "cell_type": "code",
   "execution_count": null,
   "id": "d1b2acf6",
   "metadata": {},
   "outputs": [],
   "source": []
  }
 ],
 "metadata": {
  "kernelspec": {
   "display_name": "Python 3 (ipykernel)",
   "language": "python",
   "name": "python3"
  },
  "language_info": {
   "codemirror_mode": {
    "name": "ipython",
    "version": 3
   },
   "file_extension": ".py",
   "mimetype": "text/x-python",
   "name": "python",
   "nbconvert_exporter": "python",
   "pygments_lexer": "ipython3",
   "version": "3.10.3"
  }
 },
 "nbformat": 4,
 "nbformat_minor": 5
}
